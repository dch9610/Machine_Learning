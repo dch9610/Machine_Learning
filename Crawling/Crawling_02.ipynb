{
 "cells": [
  {
   "cell_type": "code",
   "execution_count": 11,
   "metadata": {},
   "outputs": [],
   "source": [
    "import requests"
   ]
  },
  {
   "cell_type": "markdown",
   "metadata": {},
   "source": [
    "### 학습목표\n",
    " 1. OPEN API 사용하여 데이터 획득하기"
   ]
  },
  {
   "cell_type": "markdown",
   "metadata": {},
   "source": [
    "#### 공공데이터 포털 OPEN API 사용하기\n",
    "1. 공공데이터 포털 회원가입/로그인(https://www.data.go.kr/)\n",
    "2. API 사용 요청 / 키 발급\n",
    "3. API 문서(specification) 확인\n",
    "4. API 테스트 및 개발"
   ]
  },
  {
   "cell_type": "markdown",
   "metadata": {},
   "source": [
    "#### key 값 확인하기\n",
    " - 서비스 호출 트래킹할 목적이나 악의적인 사용을 금지할 목적으로 주로 사용\n",
    " - 새로 발급받은 키는 1시간 이후 사용 가능"
   ]
  },
  {
   "cell_type": "code",
   "execution_count": 1,
   "metadata": {},
   "outputs": [],
   "source": [
    "# 일반 인증키\n",
    "serviceKey = 'IQohSm8HWzXzCPCk8ODhYe34XnO9k%2FMbKykks7LS4E2SapN6YaihriMXgZhiAjKLuRFYBI2YEyYXRCj7MlfBsw%3D%3D'"
   ]
  },
  {
   "cell_type": "markdown",
   "metadata": {},
   "source": [
    "#### Endpoint 확인하기\n",
    " - API가 서비스되는 서버의 IP 혹은 domain 주소"
   ]
  },
  {
   "cell_type": "code",
   "execution_count": 8,
   "metadata": {},
   "outputs": [
    {
     "output_type": "stream",
     "name": "stdout",
     "text": [
      "http://api.visitkorea.or.kr/openapi/service/rest/KorService/areaCode?ServiceKey=IQohSm8HWzXzCPCk8ODhYe34XnO9k%2FMbKykks7LS4E2SapN6YaihriMXgZhiAjKLuRFYBI2YEyYXRCj7MlfBsw%3D%3D&areaCode=1&numOfRows=10&pageNo=1&MobileOS=ETC&MobileApp=AppTest\n"
     ]
    }
   ],
   "source": [
    "# 인증키를 등록후 xml로 데이터를 받아옴\n",
    "endpoint_xml = 'http://api.visitkorea.or.kr/openapi/service/rest/KorService/areaCode?ServiceKey={}&areaCode=1&numOfRows=10&pageNo=1&MobileOS=ETC&MobileApp=AppTest'.format(serviceKey)\n",
    "print(endpoint_xml)"
   ]
  },
  {
   "cell_type": "code",
   "execution_count": 10,
   "metadata": {},
   "outputs": [
    {
     "output_type": "stream",
     "name": "stdout",
     "text": [
      "http://api.visitkorea.or.kr/openapi/service/rest/KorService/areaCode?ServiceKey=IQohSm8HWzXzCPCk8ODhYe34XnO9k%2FMbKykks7LS4E2SapN6YaihriMXgZhiAjKLuRFYBI2YEyYXRCj7MlfBsw%3D%3D&areaCode=1&numOfRows=10&pageNo=2&MobileOS=ETC&MobileApp=AppTest&_type=json\n"
     ]
    }
   ],
   "source": [
    "# &_type=json를 입력하여 json 형태로 값을 가져옴\n",
    "endpoint_json = 'http://api.visitkorea.or.kr/openapi/service/rest/KorService/areaCode?ServiceKey={}&areaCode=1&numOfRows=10&pageNo=1&MobileOS=ETC&MobileApp=AppTest&_type=json'.format(serviceKey)\n",
    "print(endpoint_json)"
   ]
  },
  {
   "cell_type": "markdown",
   "metadata": {},
   "source": [
    "#### Parameter 확인하기\n",
    " - API 호출에 필요한 parameter 값 확인 및 구성"
   ]
  },
  {
   "cell_type": "code",
   "execution_count": 27,
   "metadata": {},
   "outputs": [
    {
     "output_type": "stream",
     "name": "stdout",
     "text": [
      "200\n"
     ]
    },
    {
     "output_type": "execute_result",
     "data": {
      "text/plain": [
       "{'code': 1, 'name': '강남구', 'rnum': 1}"
      ]
     },
     "metadata": {},
     "execution_count": 27
    }
   ],
   "source": [
    "endpoint_json = 'http://api.visitkorea.or.kr/openapi/service/rest/KorService/areaCode?ServiceKey={}&areaCode=1&numOfRows=10&pageNo=1&MobileOS=ETC&MobileApp=AppTest&_type=json'.format(serviceKey)\n",
    "resp          = requests.get(endpoint_json)\n",
    "\n",
    "print(resp.status_code)\n",
    "# print(resp.text)\n",
    "\n",
    "# 데이터 타입 json인 경우\n",
    "data = resp.json()\n",
    "data['response']['body']['items']['item'][0]\n"
   ]
  },
  {
   "cell_type": "markdown",
   "metadata": {},
   "source": [
    "#### 요청 및 Response 확인\n",
    " - requests 모듈을 활용하여 API 호출\n",
    " - response 확인하여 원하는 정보 추출\n",
    " - json 데이터의 경우, python dictionary로 변경하여 사용가능"
   ]
  },
  {
   "cell_type": "code",
   "execution_count": null,
   "metadata": {},
   "outputs": [],
   "source": []
  }
 ],
 "metadata": {
  "kernelspec": {
   "display_name": "Python 3",
   "language": "python",
   "name": "python3"
  },
  "language_info": {
   "codemirror_mode": {
    "name": "ipython",
    "version": 3
   },
   "file_extension": ".py",
   "mimetype": "text/x-python",
   "name": "python",
   "nbconvert_exporter": "python",
   "pygments_lexer": "ipython3",
   "version": "3.8.5-final"
  }
 },
 "nbformat": 4,
 "nbformat_minor": 2
}